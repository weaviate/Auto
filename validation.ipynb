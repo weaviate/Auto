{
 "cells": [
  {
   "cell_type": "code",
   "execution_count": null,
   "id": "94f9e842-fdda-400f-a931-c24f2f19cbbd",
   "metadata": {
    "scrolled": true
   },
   "outputs": [],
   "source": [
    "! pip install -r requirements.txt"
   ]
  },
  {
   "cell_type": "code",
   "execution_count": 3,
   "id": "1620b79f-952a-4412-b22e-d440796a70f4",
   "metadata": {},
   "outputs": [
    {
     "name": "stdout",
     "output_type": "stream",
     "text": [
      "Binary /home/samos/.cache/weaviate-embedded did not exist. Downloading binary from https://github.com/weaviate/weaviate/releases/download/v1.19.12/weaviate-v1.19.12-Linux-amd64.tar.gz\n",
      "Started /home/samos/.cache/weaviate-embedded: process ID 335876\n"
     ]
    },
    {
     "name": "stderr",
     "output_type": "stream",
     "text": [
      "{\"action\":\"startup\",\"default_vectorizer_module\":\"none\",\"level\":\"info\",\"msg\":\"the default vectorizer modules is set to \\\"none\\\", as a result all new schema classes without an explicit vectorizer setting, will use this vectorizer\",\"time\":\"2023-08-03T22:44:41-07:00\"}\n",
      "{\"action\":\"startup\",\"auto_schema_enabled\":true,\"level\":\"info\",\"msg\":\"auto schema enabled setting is set to \\\"true\\\"\",\"time\":\"2023-08-03T22:44:41-07:00\"}\n",
      "{\"level\":\"warning\",\"msg\":\"Multiple vector spaces are present, GraphQL Explore and REST API list objects endpoint module include params has been disabled as a result.\",\"time\":\"2023-08-03T22:44:41-07:00\"}\n",
      "{\"action\":\"grpc_startup\",\"level\":\"info\",\"msg\":\"grpc server listening at [::]:50051\",\"time\":\"2023-08-03T22:44:41-07:00\"}\n",
      "{\"action\":\"restapi_management\",\"level\":\"info\",\"msg\":\"Serving weaviate at http://127.0.0.1:6666\",\"time\":\"2023-08-03T22:44:41-07:00\"}\n",
      "{\"action\":\"hnsw_vector_cache_prefill\",\"count\":1000,\"index_id\":\"wine_9VdgrtkjFBrV\",\"level\":\"info\",\"limit\":1000000000000,\"msg\":\"prefilled vector cache\",\"time\":\"2023-08-03T22:44:41-07:00\",\"took\":78642}\n"
     ]
    },
    {
     "data": {
      "text/plain": [
       "'eb844551-b5e8-4d5a-9833-070d4ccb7b7d'"
      ]
     },
     "execution_count": 3,
     "metadata": {},
     "output_type": "execute_result"
    }
   ],
   "source": [
    "import weaviate\n",
    "from weaviate.embedded import EmbeddedOptions\n",
    "\n",
    "client = weaviate.Client(\n",
    "  embedded_options=EmbeddedOptions()\n",
    ")\n",
    "\n",
    "data_obj = {\n",
    "  \"name\": \"Chardonnay\",\n",
    "  \"description\": \"Goes with fish\"\n",
    "}\n",
    "\n",
    "client.data_object.create(data_obj, \"Wine\")"
   ]
  },
  {
   "cell_type": "markdown",
   "id": "c8872ed6-83a7-4234-a464-990be5eaccf6",
   "metadata": {},
   "source": [
    "## Check what incorrect GraphQL query result looks like"
   ]
  },
  {
   "cell_type": "code",
   "execution_count": 6,
   "id": "bd3b3ada-ec0e-4eef-8a67-dbc97dd15889",
   "metadata": {},
   "outputs": [
    {
     "data": {
      "text/plain": [
       "{'errors': [{'locations': [{'column': 9, 'line': 4}],\n",
       "   'message': 'Cannot query field \"Article\" on type \"GetObjectsObj\".',\n",
       "   'path': None}]}"
      ]
     },
     "execution_count": 6,
     "metadata": {},
     "output_type": "execute_result"
    }
   ],
   "source": [
    "query = \"\"\"\n",
    "{\n",
    "    Get {\n",
    "        Article(limit: 2) {\n",
    "        title\n",
    "        hasAuthors {\n",
    "            ... on Author {\n",
    "                name\n",
    "                }\n",
    "            }\n",
    "        }\n",
    "    }\n",
    "}\n",
    "\"\"\"\n",
    "result = client.query.raw(query)\n",
    "result"
   ]
  },
  {
   "cell_type": "markdown",
   "id": "768ab529-cc26-4884-856d-16d868cb93a3",
   "metadata": {},
   "source": [
    "## Lets validate the schemas\n",
    "For each Schema try to load it into Weaviate"
   ]
  },
  {
   "cell_type": "code",
   "execution_count": 7,
   "id": "3d7cbf2c-333b-45a9-a72d-e4c619471766",
   "metadata": {},
   "outputs": [
    {
     "name": "stdout",
     "output_type": "stream",
     "text": [
      "total 56K\n",
      "4.0K drwxr-xr-x 2 samos samos 4.0K Aug  3 22:23 .\n",
      "4.0K drwxr-xr-x 7 samos samos 4.0K Aug  3 22:49 ..\n",
      "4.0K -rw-r--r-- 1 samos samos 1.7K Aug  3 22:23 books.json\n",
      "4.0K -rw-r--r-- 1 samos samos 2.1K Aug  3 22:23 clothing.json\n",
      "4.0K -rw-r--r-- 1 samos samos 1.8K Aug  3 22:23 coderepos.json\n",
      "4.0K -rw-r--r-- 1 samos samos 1.1K Aug  3 22:23 crm.json\n",
      "4.0K -rw-r--r-- 1 samos samos 2.0K Aug  3 22:23 eventplanning.json\n",
      "4.0K -rw-r--r-- 1 samos samos 1.7K Aug  3 22:23 movies.json\n",
      "4.0K -rw-r--r-- 1 samos samos 1.7K Aug  3 22:23 music.json\n",
      "4.0K -rw-r--r-- 1 samos samos 2.4K Aug  3 22:23 podcast.json\n",
      "4.0K -rw-r--r-- 1 samos samos 1.7K Aug  3 22:23 socialmedia.json\n",
      "4.0K -rw-r--r-- 1 samos samos 1.8K Aug  3 22:23 supplements.json\n",
      "4.0K -rw-r--r-- 1 samos samos 1.8K Aug  3 22:23 traveldestination.json\n",
      "4.0K -rw-r--r-- 1 samos samos 1.7K Aug  3 22:23 workoutlog.json\n"
     ]
    }
   ],
   "source": [
    "! ls -lash ToySchemas"
   ]
  },
  {
   "cell_type": "code",
   "execution_count": 10,
   "id": "8735ceb3-6357-4a78-a122-1bbe00a70949",
   "metadata": {},
   "outputs": [
    {
     "data": {
      "text/plain": [
       "[PosixPath('ToySchemas/books.json'),\n",
       " PosixPath('ToySchemas/workoutlog.json'),\n",
       " PosixPath('ToySchemas/podcast.json'),\n",
       " PosixPath('ToySchemas/socialmedia.json'),\n",
       " PosixPath('ToySchemas/movies.json'),\n",
       " PosixPath('ToySchemas/eventplanning.json'),\n",
       " PosixPath('ToySchemas/music.json'),\n",
       " PosixPath('ToySchemas/supplements.json'),\n",
       " PosixPath('ToySchemas/traveldestination.json'),\n",
       " PosixPath('ToySchemas/coderepos.json'),\n",
       " PosixPath('ToySchemas/clothing.json'),\n",
       " PosixPath('ToySchemas/crm.json')]"
      ]
     },
     "execution_count": 10,
     "metadata": {},
     "output_type": "execute_result"
    }
   ],
   "source": [
    "from pathlib import Path\n",
    "\n",
    "schema_filenames = list(Path(\"ToySchemas\").glob(\"*.json\"))\n",
    "schema_filenames"
   ]
  },
  {
   "cell_type": "code",
   "execution_count": 15,
   "id": "6406965e-ebe3-47c2-a4c6-b0681e053b8e",
   "metadata": {},
   "outputs": [
    {
     "data": {
      "text/plain": [
       "[{'class': 'Book',\n",
       "  'description': 'A book in the library.',\n",
       "  'properties': [{'name': 'bookId',\n",
       "    'dataType': ['uuid'],\n",
       "    'description': 'A unique identifier for each book.',\n",
       "    'moduleConfig': {'text2vec-transformers': {'skip': True,\n",
       "      'vectorizeClassName': False,\n",
       "      'vectorizePropertyName': False}}},\n",
       "   {'name': 'title',\n",
       "    'dataType': ['text'],\n",
       "    'description': 'The title of the book.',\n",
       "    'moduleConfig': {'text2vec-transformers': {'skip': False,\n",
       "      'vectorizeClassName': False,\n",
       "      'vectorizePropertyName': False}}},\n",
       "   {'name': 'publicationDate',\n",
       "    'dataType': ['date'],\n",
       "    'description': 'The publication date of the book.',\n",
       "    'moduleConfig': {'text2vec-transformers': {'skip': True,\n",
       "      'vectorizeClassName': False,\n",
       "      'vectorizePropertyName': False}}},\n",
       "   {'name': 'genre',\n",
       "    'dataType': ['text'],\n",
       "    'description': 'The genre of the book.',\n",
       "    'moduleConfig': {'text2vec-transformers': {'skip': False,\n",
       "      'vectorizeClassName': False,\n",
       "      'vectorizePropertyName': False}}},\n",
       "   {'name': 'authors',\n",
       "    'dataType': ['Author'],\n",
       "    'description': 'The authors of the book.',\n",
       "    'moduleConfig': {'text2vec-transformers': {'skip': True,\n",
       "      'vectorizeClassName': False,\n",
       "      'vectorizePropertyName': False}}}]}]"
      ]
     },
     "execution_count": 15,
     "metadata": {},
     "output_type": "execute_result"
    }
   ],
   "source": [
    "import json\n",
    "schemas = []\n",
    "for f in schema_filenames:\n",
    "    schemas.append(json.loads(f.read_text(encoding=\"UTF-8\")))\n",
    "\n",
    "schemas[0:1]"
   ]
  },
  {
   "cell_type": "code",
   "execution_count": 23,
   "id": "6e51968f-dbc3-47f3-9402-bc682189c236",
   "metadata": {},
   "outputs": [
    {
     "name": "stderr",
     "output_type": "stream",
     "text": [
      "{\"action\":\"hnsw_vector_cache_prefill\",\"count\":1000,\"index_id\":\"book_ncI3yGTGYZGv\",\"level\":\"info\",\"limit\":1000000000000,\"msg\":\"prefilled vector cache\",\"time\":\"2023-08-03T23:02:42-07:00\",\"took\":86812}\n",
      "ERROR:root:Exception for class Book\n",
      "Traceback (most recent call last):\n",
      "  File \"/tmp/ipykernel_335787/2715742918.py\", line 10, in <module>\n",
      "    client.schema.create_class(schema)\n",
      "  File \"/home/samos/workspace/weaviate-gorilla/.venv/lib/python3.11/site-packages/weaviate/schema/crud_schema.py\", line 203, in create_class\n",
      "    self._create_complex_properties_from_class(loaded_schema_class)\n",
      "  File \"/home/samos/workspace/weaviate-gorilla/.venv/lib/python3.11/site-packages/weaviate/schema/crud_schema.py\", line 716, in _create_complex_properties_from_class\n",
      "    raise UnexpectedStatusCodeException(\"Add properties to classes\", response)\n",
      "weaviate.exceptions.UnexpectedStatusCodeException: Add properties to classes! Unexpected status code: 422, with response body: {'error': [{'message': 'none vectorizer module not part of the property'}]}.\n",
      "{\"action\":\"hnsw_vector_cache_prefill\",\"count\":1000,\"index_id\":\"workout_QnLRAXXs5nGM\",\"level\":\"info\",\"limit\":1000000000000,\"msg\":\"prefilled vector cache\",\"time\":\"2023-08-03T23:02:42-07:00\",\"took\":73613}\n",
      "ERROR:root:Exception for class Workout\n",
      "Traceback (most recent call last):\n",
      "  File \"/tmp/ipykernel_335787/2715742918.py\", line 10, in <module>\n",
      "    client.schema.create_class(schema)\n",
      "  File \"/home/samos/workspace/weaviate-gorilla/.venv/lib/python3.11/site-packages/weaviate/schema/crud_schema.py\", line 203, in create_class\n",
      "    self._create_complex_properties_from_class(loaded_schema_class)\n",
      "  File \"/home/samos/workspace/weaviate-gorilla/.venv/lib/python3.11/site-packages/weaviate/schema/crud_schema.py\", line 716, in _create_complex_properties_from_class\n",
      "    raise UnexpectedStatusCodeException(\"Add properties to classes\", response)\n",
      "weaviate.exceptions.UnexpectedStatusCodeException: Add properties to classes! Unexpected status code: 422, with response body: {'error': [{'message': 'none vectorizer module not part of the property'}]}.\n",
      "ERROR:root:Exception for class PodClip\n",
      "Traceback (most recent call last):\n",
      "  File \"/tmp/ipykernel_335787/2715742918.py\", line 10, in <module>\n",
      "    client.schema.create_class(schema)\n",
      "  File \"/home/samos/workspace/weaviate-gorilla/.venv/lib/python3.11/site-packages/weaviate/schema/crud_schema.py\", line 202, in create_class\n",
      "    self._create_class_with_primitives(loaded_schema_class)\n",
      "  File \"/home/samos/workspace/weaviate-gorilla/.venv/lib/python3.11/site-packages/weaviate/schema/crud_schema.py\", line 767, in _create_class_with_primitives\n",
      "    raise UnexpectedStatusCodeException(\"Create class\", response)\n",
      "weaviate.exceptions.UnexpectedStatusCodeException: Create class! Unexpected status code: 422, with response body: {'error': [{'message': 'vectorizer: no module with name \"text2vec-transformers\" present'}]}.\n",
      "{\"action\":\"hnsw_vector_cache_prefill\",\"count\":1000,\"index_id\":\"user_vqwRECZXGcjx\",\"level\":\"info\",\"limit\":1000000000000,\"msg\":\"prefilled vector cache\",\"time\":\"2023-08-03T23:02:42-07:00\",\"took\":92819}\n",
      "ERROR:root:Exception for class User\n",
      "Traceback (most recent call last):\n",
      "  File \"/tmp/ipykernel_335787/2715742918.py\", line 10, in <module>\n",
      "    client.schema.create_class(schema)\n",
      "  File \"/home/samos/workspace/weaviate-gorilla/.venv/lib/python3.11/site-packages/weaviate/schema/crud_schema.py\", line 203, in create_class\n",
      "    self._create_complex_properties_from_class(loaded_schema_class)\n",
      "  File \"/home/samos/workspace/weaviate-gorilla/.venv/lib/python3.11/site-packages/weaviate/schema/crud_schema.py\", line 716, in _create_complex_properties_from_class\n",
      "    raise UnexpectedStatusCodeException(\"Add properties to classes\", response)\n",
      "weaviate.exceptions.UnexpectedStatusCodeException: Add properties to classes! Unexpected status code: 422, with response body: {'error': [{'message': 'none vectorizer module not part of the property'}]}.\n",
      "{\"action\":\"hnsw_vector_cache_prefill\",\"count\":1000,\"index_id\":\"movie_yvwRj6yM5LnO\",\"level\":\"info\",\"limit\":1000000000000,\"msg\":\"prefilled vector cache\",\"time\":\"2023-08-03T23:02:42-07:00\",\"took\":61461}\n",
      "ERROR:root:Exception for class Movie\n",
      "Traceback (most recent call last):\n",
      "  File \"/tmp/ipykernel_335787/2715742918.py\", line 10, in <module>\n",
      "    client.schema.create_class(schema)\n",
      "  File \"/home/samos/workspace/weaviate-gorilla/.venv/lib/python3.11/site-packages/weaviate/schema/crud_schema.py\", line 203, in create_class\n",
      "    self._create_complex_properties_from_class(loaded_schema_class)\n",
      "  File \"/home/samos/workspace/weaviate-gorilla/.venv/lib/python3.11/site-packages/weaviate/schema/crud_schema.py\", line 716, in _create_complex_properties_from_class\n",
      "    raise UnexpectedStatusCodeException(\"Add properties to classes\", response)\n",
      "weaviate.exceptions.UnexpectedStatusCodeException: Add properties to classes! Unexpected status code: 422, with response body: {'error': [{'message': 'none vectorizer module not part of the property'}]}.\n",
      "{\"action\":\"hnsw_vector_cache_prefill\",\"count\":1000,\"index_id\":\"event_P2nbqn0TBNjR\",\"level\":\"info\",\"limit\":1000000000000,\"msg\":\"prefilled vector cache\",\"time\":\"2023-08-03T23:02:42-07:00\",\"took\":77035}\n",
      "ERROR:root:Exception for class Event\n",
      "Traceback (most recent call last):\n",
      "  File \"/tmp/ipykernel_335787/2715742918.py\", line 10, in <module>\n",
      "    client.schema.create_class(schema)\n",
      "  File \"/home/samos/workspace/weaviate-gorilla/.venv/lib/python3.11/site-packages/weaviate/schema/crud_schema.py\", line 203, in create_class\n",
      "    self._create_complex_properties_from_class(loaded_schema_class)\n",
      "  File \"/home/samos/workspace/weaviate-gorilla/.venv/lib/python3.11/site-packages/weaviate/schema/crud_schema.py\", line 716, in _create_complex_properties_from_class\n",
      "    raise UnexpectedStatusCodeException(\"Add properties to classes\", response)\n",
      "weaviate.exceptions.UnexpectedStatusCodeException: Add properties to classes! Unexpected status code: 422, with response body: {'error': [{'message': 'none vectorizer module not part of the property'}]}.\n",
      "{\"action\":\"hnsw_vector_cache_prefill\",\"count\":1000,\"index_id\":\"track_WDzTXCz8czDj\",\"level\":\"info\",\"limit\":1000000000000,\"msg\":\"prefilled vector cache\",\"time\":\"2023-08-03T23:02:42-07:00\",\"took\":76336}\n",
      "ERROR:root:Exception for class Track\n",
      "Traceback (most recent call last):\n",
      "  File \"/tmp/ipykernel_335787/2715742918.py\", line 10, in <module>\n",
      "    client.schema.create_class(schema)\n",
      "  File \"/home/samos/workspace/weaviate-gorilla/.venv/lib/python3.11/site-packages/weaviate/schema/crud_schema.py\", line 203, in create_class\n",
      "    self._create_complex_properties_from_class(loaded_schema_class)\n",
      "  File \"/home/samos/workspace/weaviate-gorilla/.venv/lib/python3.11/site-packages/weaviate/schema/crud_schema.py\", line 716, in _create_complex_properties_from_class\n",
      "    raise UnexpectedStatusCodeException(\"Add properties to classes\", response)\n",
      "weaviate.exceptions.UnexpectedStatusCodeException: Add properties to classes! Unexpected status code: 422, with response body: {'error': [{'message': 'none vectorizer module not part of the property'}]}.\n",
      "{\"action\":\"hnsw_vector_cache_prefill\",\"count\":1000,\"index_id\":\"supplement_O1v0Ya6IwLKm\",\"level\":\"info\",\"limit\":1000000000000,\"msg\":\"prefilled vector cache\",\"time\":\"2023-08-03T23:02:42-07:00\",\"took\":110559}\n",
      "ERROR:root:Exception for class Supplement\n",
      "Traceback (most recent call last):\n",
      "  File \"/tmp/ipykernel_335787/2715742918.py\", line 10, in <module>\n",
      "    client.schema.create_class(schema)\n",
      "  File \"/home/samos/workspace/weaviate-gorilla/.venv/lib/python3.11/site-packages/weaviate/schema/crud_schema.py\", line 203, in create_class\n",
      "    self._create_complex_properties_from_class(loaded_schema_class)\n",
      "  File \"/home/samos/workspace/weaviate-gorilla/.venv/lib/python3.11/site-packages/weaviate/schema/crud_schema.py\", line 716, in _create_complex_properties_from_class\n",
      "    raise UnexpectedStatusCodeException(\"Add properties to classes\", response)\n",
      "weaviate.exceptions.UnexpectedStatusCodeException: Add properties to classes! Unexpected status code: 422, with response body: {'error': [{'message': 'none vectorizer module not part of the property'}]}.\n",
      "{\"action\":\"hnsw_vector_cache_prefill\",\"count\":1000,\"index_id\":\"destination_yfiFgEK53Tsd\",\"level\":\"info\",\"limit\":1000000000000,\"msg\":\"prefilled vector cache\",\"time\":\"2023-08-03T23:02:42-07:00\",\"took\":60901}\n",
      "ERROR:root:Exception for class Destination\n",
      "Traceback (most recent call last):\n",
      "  File \"/tmp/ipykernel_335787/2715742918.py\", line 10, in <module>\n",
      "    client.schema.create_class(schema)\n",
      "  File \"/home/samos/workspace/weaviate-gorilla/.venv/lib/python3.11/site-packages/weaviate/schema/crud_schema.py\", line 203, in create_class\n",
      "    self._create_complex_properties_from_class(loaded_schema_class)\n",
      "  File \"/home/samos/workspace/weaviate-gorilla/.venv/lib/python3.11/site-packages/weaviate/schema/crud_schema.py\", line 716, in _create_complex_properties_from_class\n",
      "    raise UnexpectedStatusCodeException(\"Add properties to classes\", response)\n",
      "weaviate.exceptions.UnexpectedStatusCodeException: Add properties to classes! Unexpected status code: 422, with response body: {'error': [{'message': 'none vectorizer module not part of the property'}]}.\n",
      "{\"action\":\"hnsw_vector_cache_prefill\",\"count\":1000,\"index_id\":\"repository_clSlPt7aTKZ9\",\"level\":\"info\",\"limit\":1000000000000,\"msg\":\"prefilled vector cache\",\"time\":\"2023-08-03T23:02:42-07:00\",\"took\":130114}\n",
      "ERROR:root:Exception for class Repository\n",
      "Traceback (most recent call last):\n",
      "  File \"/tmp/ipykernel_335787/2715742918.py\", line 10, in <module>\n",
      "    client.schema.create_class(schema)\n",
      "  File \"/home/samos/workspace/weaviate-gorilla/.venv/lib/python3.11/site-packages/weaviate/schema/crud_schema.py\", line 203, in create_class\n",
      "    self._create_complex_properties_from_class(loaded_schema_class)\n",
      "  File \"/home/samos/workspace/weaviate-gorilla/.venv/lib/python3.11/site-packages/weaviate/schema/crud_schema.py\", line 716, in _create_complex_properties_from_class\n",
      "    raise UnexpectedStatusCodeException(\"Add properties to classes\", response)\n",
      "weaviate.exceptions.UnexpectedStatusCodeException: Add properties to classes! Unexpected status code: 422, with response body: {'error': [{'message': 'none vectorizer module not part of the property'}]}.\n",
      "{\"action\":\"hnsw_vector_cache_prefill\",\"count\":1000,\"index_id\":\"clothingitem_Xg79AZV92FFG\",\"level\":\"info\",\"limit\":1000000000000,\"msg\":\"prefilled vector cache\",\"time\":\"2023-08-03T23:02:42-07:00\",\"took\":92540}\n",
      "ERROR:root:Exception for class ClothingItem\n",
      "Traceback (most recent call last):\n",
      "  File \"/tmp/ipykernel_335787/2715742918.py\", line 10, in <module>\n",
      "    client.schema.create_class(schema)\n",
      "  File \"/home/samos/workspace/weaviate-gorilla/.venv/lib/python3.11/site-packages/weaviate/schema/crud_schema.py\", line 203, in create_class\n",
      "    self._create_complex_properties_from_class(loaded_schema_class)\n",
      "  File \"/home/samos/workspace/weaviate-gorilla/.venv/lib/python3.11/site-packages/weaviate/schema/crud_schema.py\", line 716, in _create_complex_properties_from_class\n",
      "    raise UnexpectedStatusCodeException(\"Add properties to classes\", response)\n",
      "weaviate.exceptions.UnexpectedStatusCodeException: Add properties to classes! Unexpected status code: 422, with response body: {'error': [{'message': 'none vectorizer module not part of the property'}]}.\n"
     ]
    },
    {
     "name": "stdout",
     "output_type": "stream",
     "text": [
      "Creating schema for class Book\n",
      "Creating schema for class Workout\n",
      "Creating schema for class PodClip\n",
      "Creating schema for class User\n",
      "Creating schema for class Movie\n",
      "Creating schema for class Event\n",
      "Creating schema for class Track\n",
      "Creating schema for class Supplement\n",
      "Creating schema for class Destination\n",
      "Creating schema for class Repository\n",
      "Creating schema for class ClothingItem\n",
      "Creating schema for class Customer\n"
     ]
    },
    {
     "name": "stderr",
     "output_type": "stream",
     "text": [
      "{\"action\":\"hnsw_vector_cache_prefill\",\"count\":1000,\"index_id\":\"customer_AEeow2tDRtcx\",\"level\":\"info\",\"limit\":1000000000000,\"msg\":\"prefilled vector cache\",\"time\":\"2023-08-03T23:02:42-07:00\",\"took\":86184}\n"
     ]
    }
   ],
   "source": [
    "# try creating and deleting the schema to ensure it's a correct schema\n",
    "import logging\n",
    "client.schema.delete_all()\n",
    "\n",
    "classes_with_exceptions = []\n",
    "\n",
    "for schema in schemas:\n",
    "    try:\n",
    "        print(f\"Creating schema for class {schema['class']}\")\n",
    "        client.schema.create_class(schema)\n",
    "        client.schema.delete_class(schema[\"class\"])\n",
    "    except:\n",
    "        classes_with_exceptions.append({\"class\": schema[\"class\"], \"schema\": schema})\n",
    "        logging.exception(f\"Exception for class {schema['class']}\")"
   ]
  },
  {
   "cell_type": "code",
   "execution_count": 27,
   "id": "732a2961-ddee-406f-9913-396bf4cff66a",
   "metadata": {},
   "outputs": [
    {
     "data": {
      "text/plain": [
       "['Book',\n",
       " 'Workout',\n",
       " 'PodClip',\n",
       " 'User',\n",
       " 'Movie',\n",
       " 'Event',\n",
       " 'Track',\n",
       " 'Supplement',\n",
       " 'Destination',\n",
       " 'Repository',\n",
       " 'ClothingItem']"
      ]
     },
     "execution_count": 27,
     "metadata": {},
     "output_type": "execute_result"
    }
   ],
   "source": [
    "[s[\"class\"] for s in classes_with_exceptions]"
   ]
  },
  {
   "cell_type": "code",
   "execution_count": null,
   "id": "d3998d50-665d-4ef8-81e3-6d57639aecff",
   "metadata": {},
   "outputs": [],
   "source": []
  }
 ],
 "metadata": {
  "kernelspec": {
   "display_name": "Python 3 (ipykernel)",
   "language": "python",
   "name": "python3"
  },
  "language_info": {
   "codemirror_mode": {
    "name": "ipython",
    "version": 3
   },
   "file_extension": ".py",
   "mimetype": "text/x-python",
   "name": "python",
   "nbconvert_exporter": "python",
   "pygments_lexer": "ipython3",
   "version": "3.11.3"
  }
 },
 "nbformat": 4,
 "nbformat_minor": 5
}
