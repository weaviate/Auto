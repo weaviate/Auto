{
 "cells": [
  {
   "cell_type": "code",
   "execution_count": 1,
   "metadata": {
    "editable": true,
    "slideshow": {
     "slide_type": ""
    },
    "tags": []
   },
   "outputs": [
    {
     "data": {
      "text/plain": [
       "{'hf_dataset': 'weaviate/WithoutRetrieval-SchemaSplit-Test-80',\n",
       " 'push_to_hub': 'substratusai/wgql-WithRetrieval-SchemaSplit-Train-80-3epochs'}"
      ]
     },
     "execution_count": 1,
     "metadata": {},
     "output_type": "execute_result"
    }
   ],
   "source": [
    "import json\n",
    "from pathlib import Path\n",
    "\n",
    "params = {}\n",
    "params_path = Path(\"/content/params.json\")\n",
    "if params_path.is_file():\n",
    "    with params_path.open(\"r\", encoding=\"UTF-8\") as params_file:\n",
    "        params = json.load(params_file)\n",
    "\n",
    "params"
   ]
  },
  {
   "cell_type": "code",
   "execution_count": 2,
   "metadata": {},
   "outputs": [
    {
     "data": {
      "application/vnd.jupyter.widget-view+json": {
       "model_id": "e628b32a92fc4e118cdb6f706db935b2",
       "version_major": 2,
       "version_minor": 0
      },
      "text/plain": [
       "Downloading readme:   0%|          | 0.00/28.0 [00:00<?, ?B/s]"
      ]
     },
     "metadata": {},
     "output_type": "display_data"
    },
    {
     "data": {
      "application/vnd.jupyter.widget-view+json": {
       "model_id": "7057f8f2a341473597cfad74287c469a",
       "version_major": 2,
       "version_minor": 0
      },
      "text/plain": [
       "Downloading data files:   0%|          | 0/1 [00:00<?, ?it/s]"
      ]
     },
     "metadata": {},
     "output_type": "display_data"
    },
    {
     "data": {
      "application/vnd.jupyter.widget-view+json": {
       "model_id": "6c88b171874a426f83510b98d74cc9ab",
       "version_major": 2,
       "version_minor": 0
      },
      "text/plain": [
       "Downloading data:   0%|          | 0.00/3.90M [00:00<?, ?B/s]"
      ]
     },
     "metadata": {},
     "output_type": "display_data"
    },
    {
     "data": {
      "application/vnd.jupyter.widget-view+json": {
       "model_id": "2c6b0377a3684e17bff1ad62a62f3fe2",
       "version_major": 2,
       "version_minor": 0
      },
      "text/plain": [
       "Extracting data files:   0%|          | 0/1 [00:00<?, ?it/s]"
      ]
     },
     "metadata": {},
     "output_type": "display_data"
    },
    {
     "data": {
      "application/vnd.jupyter.widget-view+json": {
       "model_id": "a070a3908e0041819c15cbb66733e829",
       "version_major": 2,
       "version_minor": 0
      },
      "text/plain": [
       "Generating train split: 0 examples [00:00, ? examples/s]"
      ]
     },
     "metadata": {},
     "output_type": "display_data"
    },
    {
     "data": {
      "text/plain": [
       "DatasetDict({\n",
       "    train: Dataset({\n",
       "        features: ['input', 'output', 'nlcommand', 'apiRef', 'apiRefPath', 'schema', 'schemaPath'],\n",
       "        num_rows: 825\n",
       "    })\n",
       "})"
      ]
     },
     "execution_count": 2,
     "metadata": {},
     "output_type": "execute_result"
    }
   ],
   "source": [
    "from datasets import load_dataset\n",
    "\n",
    "hf_dataset = params.get(\"hf_dataset\")\n",
    "if hf_dataset:\n",
    "    dataset = load_dataset(hf_dataset)\n",
    "else:\n",
    "    dataset = load_dataset(\"json\", data_files=\"/content/data/*.json*\")\n",
    "\n",
    "dataset"
   ]
  },
  {
   "cell_type": "code",
   "execution_count": 3,
   "metadata": {},
   "outputs": [
    {
     "name": "stdout",
     "output_type": "stream",
     "text": [
      "\n",
      "## Instruction\n",
      "Your task is to write GraphQL for the Natural Language Query provided. Use the provided API reference and Schema to generate the GraphQL. The GraphQL should be valid for Weaviate.\n",
      "\n",
      "Only use the API reference to understand the syntax of the request.\n",
      "\n",
      "## Natural Language Query\n",
      "```text\n",
      "Show me the event name, description, year, significant impact, and the countries involved with their population for the top 10 historical events.\n",
      "```\n",
      "\n",
      "## Schema\n",
      "{\n",
      "\"classes\": [\n",
      "{\n",
      "\"class\": \"HistoricalEvent\",\n",
      "\"description\": \"Information about historical events\",\n",
      "\"vectorIndexType\": \"hnsw\",\n",
      "\"vectorizer\": \"text2vec-transformers\",\n",
      "\"properties\": [\n",
      "{\n",
      "\"name\": \"eventName\",\n",
      "\"dataType\": [\"text\"],\n",
      "\"description\": \"Name of the historical event\"\n",
      "},\n",
      "{\n",
      "\"name\": \"description\",\n",
      "\"dataType\": [\"text\"],\n",
      "\"description\": \"Detailed description of the event\"\n",
      "},\n",
      "{\n",
      "\"name\": \"year\",\n",
      "\"dataType\": [\"int\"],\n",
      "\"description\": \"Year the event occurred\"\n",
      "},\n",
      "{\n",
      "\"name\": \"hadSignificantImpact\",\n",
      "\"dataType\": [\"boolean\"],\n",
      "\"description\": \"Whether the event had a significant impact\"\n",
      "},\n",
      "{\n",
      "\"name\": \"involvedCountries\",\n",
      "\"dataType\": [\"Country\"],\n",
      "\"description\": \"Countries involved in the event\"\n",
      "}{\n",
      "\"class\": \"Country\",\n",
      "\"description\": \"Information about countries\",\n",
      "\"vectorIndexType\": \"hnsw\",\n",
      "\"vectorizer\": \"text2vec-transformers\",\n",
      "\"properties\": [\n",
      "{\n",
      "\"name\": \"countryName\",\n",
      "\"dataType\": [\"text\"],\n",
      "\"description\": \"Name of the country\"\n",
      "},\n",
      "{\n",
      "\"name\": \"population\",\n",
      "\"dataType\": [\"int\"],\n",
      "\"description\": \"Population of the country\"\n",
      "}}}\n",
      "\n",
      "## API reference\n",
      "`limit` returned objects\n",
      "\n",
      "Often, you will only want the top `n` results from the query. This can be achieved by setting a `limit` as shown below.\n",
      "\n",
      "```graphql\n",
      "{\n",
      "  Get {\n",
      "    JeopardyQuestion (\n",
      "      limit: 1\n",
      "    ) {\n",
      "      question\n",
      "    }\n",
      "  }\n",
      "}\n",
      "```\n",
      "\n",
      "## Answer\n",
      "```graphql\n",
      "\n"
     ]
    }
   ],
   "source": [
    "default_prompt = \"\"\"\n",
    "## Instruction\n",
    "Your task is to write GraphQL for the Natural Language Query provided. Use the provided API reference and Schema to generate the GraphQL. The GraphQL should be valid for Weaviate.\n",
    "\n",
    "Only use the API reference to understand the syntax of the request.\n",
    "\n",
    "## Natural Language Query\n",
    "{nlcommand}\n",
    "\n",
    "## Schema\n",
    "{schema}\n",
    "\n",
    "## API reference\n",
    "{apiRef}\n",
    "\n",
    "## Answer\n",
    "```graphql\n",
    "\"\"\"\n",
    "\n",
    "prompt = params.get(\"prompt_template\", default_prompt)\n",
    "print(prompt.format_map(dataset[\"train\"][0]))"
   ]
  },
  {
   "cell_type": "code",
   "execution_count": 4,
   "metadata": {},
   "outputs": [
    {
     "name": "stderr",
     "output_type": "stream",
     "text": [
      "Special tokens have been added in the vocabulary, make sure the associated word embeddings are fine-tuned or trained.\n"
     ]
    },
    {
     "data": {
      "application/vnd.jupyter.widget-view+json": {
       "model_id": "27dc4a8a98784759a9aa928d37350b7d",
       "version_major": 2,
       "version_minor": 0
      },
      "text/plain": [
       "Loading checkpoint shards:   0%|          | 0/3 [00:00<?, ?it/s]"
      ]
     },
     "metadata": {},
     "output_type": "display_data"
    }
   ],
   "source": [
    "import transformers\n",
    "import torch\n",
    "import sys\n",
    "from transformers import AutoTokenizer, AutoModelForCausalLM\n",
    "\n",
    "model_path = \"/content/model/\"\n",
    "\n",
    "tokenizer = AutoTokenizer.from_pretrained(model_path, local_files_only=True)\n",
    "model = AutoModelForCausalLM.from_pretrained(\n",
    "            model_path, load_in_8bit=True, device_map=\"auto\", trust_remote_code=True)"
   ]
  },
  {
   "cell_type": "code",
   "execution_count": 5,
   "metadata": {},
   "outputs": [
    {
     "name": "stdout",
     "output_type": "stream",
     "text": [
      "Sat Oct 14 22:30:19 2023       \n",
      "+-----------------------------------------------------------------------------+\n",
      "| NVIDIA-SMI 525.105.17   Driver Version: 525.105.17   CUDA Version: 12.0     |\n",
      "|-------------------------------+----------------------+----------------------+\n",
      "| GPU  Name        Persistence-M| Bus-Id        Disp.A | Volatile Uncorr. ECC |\n",
      "| Fan  Temp  Perf  Pwr:Usage/Cap|         Memory-Usage | GPU-Util  Compute M. |\n",
      "|                               |                      |               MIG M. |\n",
      "|===============================+======================+======================|\n",
      "|   0  NVIDIA L4           Off  | 00000000:00:04.0 Off |                    0 |\n",
      "| N/A   76C    P0    35W /  72W |   8574MiB / 23034MiB |      0%      Default |\n",
      "|                               |                      |                  N/A |\n",
      "+-------------------------------+----------------------+----------------------+\n",
      "                                                                               \n",
      "+-----------------------------------------------------------------------------+\n",
      "| Processes:                                                                  |\n",
      "|  GPU   GI   CI        PID   Type   Process name                  GPU Memory |\n",
      "|        ID   ID                                                   Usage      |\n",
      "|=============================================================================|\n",
      "+-----------------------------------------------------------------------------+\n"
     ]
    }
   ],
   "source": [
    "! nvidia-smi"
   ]
  },
  {
   "cell_type": "code",
   "execution_count": 7,
   "metadata": {},
   "outputs": [
    {
     "data": {
      "text/plain": [
       "GenerationConfig {\n",
       "  \"bos_token_id\": 1,\n",
       "  \"eos_token_id\": 2,\n",
       "  \"use_cache\": false\n",
       "}"
      ]
     },
     "execution_count": 7,
     "metadata": {},
     "output_type": "execute_result"
    }
   ],
   "source": [
    "model.generation_config"
   ]
  },
  {
   "cell_type": "code",
   "execution_count": 6,
   "metadata": {},
   "outputs": [
    {
     "name": "stderr",
     "output_type": "stream",
     "text": [
      "/usr/local/lib/python3.10/dist-packages/transformers/generation/utils.py:1421: UserWarning: You have modified the pretrained model configuration to control generation. This is a deprecated strategy to control generation and will be removed soon, in a future version. Please use and modify the model generation configuration (see https://huggingface.co/docs/transformers/generation_strategies#default-text-generation-configuration )\n",
      "  warnings.warn(\n",
      "Setting `pad_token_id` to `eos_token_id`:2 for open-end generation.\n"
     ]
    },
    {
     "name": "stdout",
     "output_type": "stream",
     "text": [
      "<s> \n",
      "## Instruction\n",
      "Your task is to write GraphQL for the Natural Language Query provided. Use the provided API reference and Schema to generate the GraphQL. The GraphQL should be valid for Weaviate.\n",
      "\n",
      "Only use the API reference to understand the syntax of the request.\n",
      "\n",
      "## Natural Language Query\n",
      "```text\n",
      "Show me the event name, description, year, significant impact, and the countries involved with their population for the top 10 historical events.\n",
      "```\n",
      "\n",
      "## Schema\n",
      "{\n",
      "\"classes\": [\n",
      "{\n",
      "\"class\": \"HistoricalEvent\",\n",
      "\"description\": \"Information about historical events\",\n",
      "\"vectorIndexType\": \"hnsw\",\n",
      "\"vectorizer\": \"text2vec-transformers\",\n",
      "\"properties\": [\n",
      "{\n",
      "\"name\": \"eventName\",\n",
      "\"dataType\": [\"text\"],\n",
      "\"description\": \"Name of the historical event\"\n",
      "},\n",
      "{\n",
      "\"name\": \"description\",\n",
      "\"dataType\": [\"text\"],\n",
      "\"description\": \"Detailed description of the event\"\n",
      "},\n",
      "{\n",
      "\"name\": \"year\",\n",
      "\"dataType\": [\"int\"],\n",
      "\"description\": \"Year the event occurred\"\n",
      "},\n",
      "{\n",
      "\"name\": \"hadSignificantImpact\",\n",
      "\"dataType\": [\"boolean\"],\n",
      "\"description\": \"Whether the event had a significant impact\"\n",
      "},\n",
      "{\n",
      "\"name\": \"involvedCountries\",\n",
      "\"dataType\": [\"Country\"],\n",
      "\"description\": \"Countries involved in the event\"\n",
      "}{\n",
      "\"class\": \"Country\",\n",
      "\"description\": \"Information about countries\",\n",
      "\"vectorIndexType\": \"hnsw\",\n",
      "\"vectorizer\": \"text2vec-transformers\",\n",
      "\"properties\": [\n",
      "{\n",
      "\"name\": \"countryName\",\n",
      "\"dataType\": [\"text\"],\n",
      "\"description\": \"Name of the country\"\n",
      "},\n",
      "{\n",
      "\"name\": \"population\",\n",
      "\"dataType\": [\"int\"],\n",
      "\"description\": \"Population of the country\"\n",
      "}}}\n",
      "\n",
      "## API reference\n",
      "`limit` returned objects\n",
      "\n",
      "Often, you will only want the top `n` results from the query. This can be achieved by setting a `limit` as shown below.\n",
      "\n",
      "```graphql\n",
      "{\n",
      "  Get {\n",
      "    JeopardyQuestion (\n",
      "      limit: 1\n",
      "    ) {\n",
      "      question\n",
      "    }\n",
      "  }\n",
      "}\n",
      "```\n",
      "\n",
      "## Answer\n",
      "```graphql\n",
      "{\n",
      "  Get {\n",
      "    HistoricalEvent (\n",
      "      limit: 10\n",
      "    ) {\n",
      "      eventName\n",
      "      description\n",
      "      year\n",
      "      hadSignificantImpact\n",
      "      involvedCountries {\n",
      "        ... on Country {\n",
      "          countryName\n",
      "          population\n",
      "        }\n",
      "      }\n",
      "    }\n",
      "  }\n",
      "}\n",
      "```\n",
      "\n",
      "The API request for the custom database schema should be as follows:\n",
      "\n",
      "```graphql\n",
      "{\n",
      " \n"
     ]
    }
   ],
   "source": [
    "device = \"cuda\"\n",
    "model_inputs = tokenizer([prompt.format_map(dataset[\"train\"][0])], return_tensors=\"pt\").to(device)\n",
    "\n",
    "\n",
    "generated_ids = model.generate(**model_inputs, max_new_tokens=200, do_sample=True, top_k=50, top_p=0.95, temperature=0.3)\n",
    "print(tokenizer.batch_decode(generated_ids)[0])"
   ]
  },
  {
   "cell_type": "code",
   "execution_count": 57,
   "metadata": {},
   "outputs": [
    {
     "data": {
      "text/plain": [
       "['\\n## Instruction\\nYour task is to write GraphQL for the Natural Language Query provided. Use the provided API reference and Schema to generate the GraphQL. The GraphQL should be valid for Weaviate.\\n\\nOnly use the API reference to understand the syntax of the request.\\n\\n## Natural Language Query\\n```text\\nShow me the event name, description, year, significant impact, and the countries involved with their population for the top 10 historical events.\\n```\\n\\n## Schema\\n{\\n\"classes\": [\\n{\\n\"class\": \"HistoricalEvent\",\\n\"description\": \"Information about historical events\",\\n\"vectorIndexType\": \"hnsw\",\\n\"vectorizer\": \"text2vec-transformers\",\\n\"properties\": [\\n{\\n\"name\": \"eventName\",\\n\"dataType\": [\"text\"],\\n\"description\": \"Name of the historical event\"\\n},\\n{\\n\"name\": \"description\",\\n\"dataType\": [\"text\"],\\n\"description\": \"Detailed description of the event\"\\n},\\n{\\n\"name\": \"year\",\\n\"dataType\": [\"int\"],\\n\"description\": \"Year the event occurred\"\\n},\\n{\\n\"name\": \"hadSignificantImpact\",\\n\"dataType\": [\"boolean\"],\\n\"description\": \"Whether the event had a significant impact\"\\n},\\n{\\n\"name\": \"involvedCountries\",\\n\"dataType\": [\"Country\"],\\n\"description\": \"Countries involved in the event\"\\n}{\\n\"class\": \"Country\",\\n\"description\": \"Information about countries\",\\n\"vectorIndexType\": \"hnsw\",\\n\"vectorizer\": \"text2vec-transformers\",\\n\"properties\": [\\n{\\n\"name\": \"countryName\",\\n\"dataType\": [\"text\"],\\n\"description\": \"Name of the country\"\\n},\\n{\\n\"name\": \"population\",\\n\"dataType\": [\"int\"],\\n\"description\": \"Population of the country\"\\n}}}\\n\\n## API reference\\n`limit`\\xa0returned objects\\n\\nOften, you will only want the top\\xa0`n`\\xa0results from the query. This can be achieved by setting a\\xa0`limit`\\xa0as shown below.\\n\\n```graphql\\n{\\n  Get {\\n    JeopardyQuestion (\\n      limit: 1\\n    ) {\\n      question\\n    }\\n  }\\n}\\n```\\n\\n## Answer\\n```graphql\\n',\n",
       " '\\n## Instruction\\nYour task is to write GraphQL for the Natural Language Query provided. Use the provided API reference and Schema to generate the GraphQL. The GraphQL should be valid for Weaviate.\\n\\nOnly use the API reference to understand the syntax of the request.\\n\\n## Natural Language Query\\n```text\\nShow me the name, description, year introduced, and whether it is a string of 10 instruments. Also, show me the name, genre, and years active of the musicians who play those instruments.\\n```\\n\\n## Schema\\n{\\n\"classes\": [\\n{\\n\"class\": \"Instrument\",\\n\"description\": \"A musical instrument.\",\\n\"vectorIndexType\": \"hnsw\",\\n\"vectorizer\": \"text2vec-transformers\",\\n\"properties\": [\\n{\\n\"name\": \"name\",\\n\"dataType\": [\"text\"],\\n\"description\": \"Name of the instrument.\"\\n},\\n{\\n\"name\": \"description\",\\n\"dataType\": [\"text\"],\\n\"description\": \"Description of the instrument.\"\\n},\\n{\\n\"name\": \"yearIntroduced\",\\n\"dataType\": [\"int\"],\\n\"description\": \"Year the instrument was introduced.\"\\n},\\n{\\n\"name\": \"isString\",\\n\"dataType\": [\"boolean\"],\\n\"description\": \"Is it a string instrument?\"\\n},\\n{\\n\"name\": \"playedBy\",\\n\"dataType\": [\"Musician\"],\\n\"description\": \"Musicians who play this instrument.\"\\n}{\\n\"class\": \"Musician\",\\n\"description\": \"An individual who plays a musical instrument.\",\\n\"vectorIndexType\": \"hnsw\",\\n\"vectorizer\": \"text2vec-transformers\",\\n\"properties\": [\\n{\\n\"name\": \"name\",\\n\"dataType\": [\"text\"],\\n\"description\": \"Name of the musician.\"\\n},\\n{\\n\"name\": \"genre\",\\n\"dataType\": [\"text\"],\\n\"description\": \"Genre of music the musician specializes in.\"\\n},\\n{\\n\"name\": \"yearsActive\",\\n\"dataType\": [\"int\"],\\n\"description\": \"Years active in music.\"\\n}}}\\n\\n## API reference\\n`limit`\\xa0returned objects\\n\\nOften, you will only want the top\\xa0`n`\\xa0results from the query. This can be achieved by setting a\\xa0`limit`\\xa0as shown below.\\n\\n```graphql\\n{\\n  Get {\\n    JeopardyQuestion (\\n      limit: 1\\n    ) {\\n      question\\n    }\\n  }\\n}\\n```\\n\\n## Answer\\n```graphql\\n',\n",
       " '\\n## Instruction\\nYour task is to write GraphQL for the Natural Language Query provided. Use the provided API reference and Schema to generate the GraphQL. The GraphQL should be valid for Weaviate.\\n\\nOnly use the API reference to understand the syntax of the request.\\n\\n## Natural Language Query\\n```text\\nShow me the location, equipment, altitude, isActive, and managedBy (including name and yearsExperience) of 10 weather stations.\\n```\\n\\n## Schema\\n{\\n\"classes\": [\\n{\\n\"class\": \"WeatherStation\",\\n\"description\": \"A weather monitoring station.\",\\n\"vectorIndexType\": \"hnsw\",\\n\"vectorizer\": \"text2vec-transformers\",\\n\"properties\": [\\n{\\n\"name\": \"location\",\\n\"dataType\": [\"text\"],\\n\"description\": \"Location of the weather station.\"\\n},\\n{\\n\"name\": \"equipment\",\\n\"dataType\": [\"text\"],\\n\"description\": \"Equipment used for weather monitoring.\"\\n},\\n{\\n\"name\": \"altitude\",\\n\"dataType\": [\"number\"],\\n\"description\": \"Altitude of the weather station.\"\\n},\\n{\\n\"name\": \"isActive\",\\n\"dataType\": [\"boolean\"],\\n\"description\": \"Is the station currently active?\"\\n},\\n{\\n\"name\": \"managedBy\",\\n\"dataType\": [\"Meteorologist\"],\\n\"description\": \"Meteorologist managing the station.\"\\n}{\\n\"class\": \"Meteorologist\",\\n\"description\": \"A person specialized in meteorology.\",\\n\"vectorIndexType\": \"hnsw\",\\n\"vectorizer\": \"text2vec-transformers\",\\n\"properties\": [\\n{\\n\"name\": \"name\",\\n\"dataType\": [\"text\"],\\n\"description\": \"Name of the meteorologist.\"\\n},\\n{\\n\"name\": \"yearsExperience\",\\n\"dataType\": [\"int\"],\\n\"description\": \"Years of experience in meteorology.\"\\n}}}\\n\\n## API reference\\n`limit`\\xa0returned objects\\n\\nOften, you will only want the top\\xa0`n`\\xa0results from the query. This can be achieved by setting a\\xa0`limit`\\xa0as shown below.\\n\\n```graphql\\n{\\n  Get {\\n    JeopardyQuestion (\\n      limit: 1\\n    ) {\\n      question\\n    }\\n  }\\n}\\n```\\n\\n## Answer\\n```graphql\\n',\n",
       " '\\n## Instruction\\nYour task is to write GraphQL for the Natural Language Query provided. Use the provided API reference and Schema to generate the GraphQL. The GraphQL should be valid for Weaviate.\\n\\nOnly use the API reference to understand the syntax of the request.\\n\\n## Natural Language Query\\n```text\\nShow me the details of 10 AI models including their model name, application, accuracy, whether they are supervised or not, and the algorithm they are based on including the algorithm\\'s name, description, and year of development.\\n```\\n\\n## Schema\\n{\\n\"classes\": [\\n{\\n\"class\": \"AIModel\",\\n\"description\": \"A machine learning model.\",\\n\"vectorIndexType\": \"hnsw\",\\n\"vectorizer\": \"text2vec-transformers\",\\n\"properties\": [\\n{\\n\"name\": \"modelName\",\\n\"dataType\": [\"text\"],\\n\"description\": \"Name of the machine learning model.\"\\n},\\n{\\n\"name\": \"application\",\\n\"dataType\": [\"text\"],\\n\"description\": \"Application area of the machine learning model.\"\\n},\\n{\\n\"name\": \"accuracy\",\\n\"dataType\": [\"number\"],\\n\"description\": \"Model\\'s accuracy score.\"\\n},\\n{\\n\"name\": \"isSupervised\",\\n\"dataType\": [\"boolean\"],\\n\"description\": \"Is this a supervised learning model?\"\\n},\\n{\\n\"name\": \"basedOn\",\\n\"dataType\": [\"Algorithm\"],\\n\"description\": \"Algorithm the model is based on.\"\\n}{\\n\"class\": \"Algorithm\",\\n\"description\": \"An algorithm used for machine learning.\",\\n\"vectorIndexType\": \"hnsw\",\\n\"vectorizer\": \"text2vec-transformers\",\\n\"properties\": [\\n{\\n\"name\": \"name\",\\n\"dataType\": [\"text\"],\\n\"description\": \"Name of the algorithm.\"\\n},\\n{\\n\"name\": \"description\",\\n\"dataType\": [\"text\"],\\n\"description\": \"Description of the algorithm.\"\\n},\\n{\\n\"name\": \"yearDeveloped\",\\n\"dataType\": [\"int\"],\\n\"description\": \"Year the algorithm was developed.\"\\n}}}\\n\\n## API reference\\n`limit`\\xa0returned objects\\n\\nOften, you will only want the top\\xa0`n`\\xa0results from the query. This can be achieved by setting a\\xa0`limit`\\xa0as shown below.\\n\\n```graphql\\n{\\n  Get {\\n    JeopardyQuestion (\\n      limit: 1\\n    ) {\\n      question\\n    }\\n  }\\n}\\n```\\n\\n## Answer\\n```graphql\\n',\n",
       " '\\n## Instruction\\nYour task is to write GraphQL for the Natural Language Query provided. Use the provided API reference and Schema to generate the GraphQL. The GraphQL should be valid for Weaviate.\\n\\nOnly use the API reference to understand the syntax of the request.\\n\\n## Natural Language Query\\n```text\\nShow me the gear name, description, weight, waterproof status, supplier name, and established year of 10 outdoor gears.\\n```\\n\\n## Schema\\n{\\n\"classes\": [\\n{\\n\"class\": \"OutdoorGear\",\\n\"description\": \"An outdoor gear item.\",\\n\"vectorIndexType\": \"hnsw\",\\n\"vectorizer\": \"text2vec-transformers\",\\n\"properties\": [\\n{\\n\"name\": \"gearName\",\\n\"dataType\": [\"text\"],\\n\"description\": \"Name of the gear.\"\\n},\\n{\\n\"name\": \"description\",\\n\"dataType\": [\"text\"],\\n\"description\": \"Description of the gear.\"\\n},\\n{\\n\"name\": \"weight\",\\n\"dataType\": [\"number\"],\\n\"description\": \"Weight of the gear in grams.\"\\n},\\n{\\n\"name\": \"isWaterproof\",\\n\"dataType\": [\"boolean\"],\\n\"description\": \"Whether the gear is waterproof.\"\\n},\\n{\\n\"name\": \"supplier\",\\n\"dataType\": [\"Supplier\"],\\n\"description\": \"The supplier of the gear.\"\\n}{\\n\"class\": \"Supplier\",\\n\"description\": \"A supplier of outdoor gear.\",\\n\"vectorIndexType\": \"hnsw\",\\n\"vectorizer\": \"text2vec-transformers\",\\n\"properties\": [\\n{\\n\"name\": \"supplierName\",\\n\"dataType\": [\"text\"],\\n\"description\": \"Name of the supplier.\"\\n},\\n{\\n\"name\": \"establishedYear\",\\n\"dataType\": [\"int\"],\\n\"description\": \"The year the supplier was established.\"\\n}}}\\n\\n## API reference\\n`limit`\\xa0returned objects\\n\\nOften, you will only want the top\\xa0`n`\\xa0results from the query. This can be achieved by setting a\\xa0`limit`\\xa0as shown below.\\n\\n```graphql\\n{\\n  Get {\\n    JeopardyQuestion (\\n      limit: 1\\n    ) {\\n      question\\n    }\\n  }\\n}\\n```\\n\\n## Answer\\n```graphql\\n']"
      ]
     },
     "execution_count": 57,
     "metadata": {},
     "output_type": "execute_result"
    }
   ],
   "source": [
    "[prompt.format_map(x) for x in dataset[\"train\"].select(range(5))]"
   ]
  },
  {
   "cell_type": "code",
   "execution_count": 42,
   "metadata": {},
   "outputs": [
    {
     "data": {
      "text/plain": [
       "tensor([   1, 8789])"
      ]
     },
     "execution_count": 42,
     "metadata": {},
     "output_type": "execute_result"
    }
   ],
   "source": [
    "stop_ids = torch.LongTensor(tokenizer(\"```\")[\"input_ids\"])\n",
    "## Note the stop_ids aren't correct, for some reason there are multiple possible token IDs\n",
    "## so instead we're using tensor([13940, 28832], device='cuda:0') as the stop_ids\n",
    "stop_ids\n"
   ]
  },
  {
   "cell_type": "code",
   "execution_count": 59,
   "metadata": {},
   "outputs": [
    {
     "name": "stderr",
     "output_type": "stream",
     "text": [
      "Setting `pad_token_id` to `eos_token_id`:2 for open-end generation.\n"
     ]
    },
    {
     "name": "stdout",
     "output_type": "stream",
     "text": [
      "[PAD][PAD][PAD][PAD][PAD]<s> \n",
      "## Instruction\n",
      "Your task is to write GraphQL for the Natural Language Query provided. Use the provided API reference and Schema to generate the GraphQL. The GraphQL should be valid for Weaviate.\n",
      "\n",
      "Only use the API reference to understand the syntax of the request.\n",
      "\n",
      "## Natural Language Query\n",
      "```text\n",
      "Show me the name, description, year introduced, and whether it is a string of 10 instruments. Also, show me the name, genre, and years active of the musicians who play those instruments.\n",
      "```\n",
      "\n",
      "## Schema\n",
      "{\n",
      "\"classes\": [\n",
      "{\n",
      "\"class\": \"Instrument\",\n",
      "\"description\": \"A musical instrument.\",\n",
      "\"vectorIndexType\": \"hnsw\",\n",
      "\"vectorizer\": \"text2vec-transformers\",\n",
      "\"properties\": [\n",
      "{\n",
      "\"name\": \"name\",\n",
      "\"dataType\": [\"text\"],\n",
      "\"description\": \"Name of the instrument.\"\n",
      "},\n",
      "{\n",
      "\"name\": \"description\",\n",
      "\"dataType\": [\"text\"],\n",
      "\"description\": \"Description of the instrument.\"\n",
      "},\n",
      "{\n",
      "\"name\": \"yearIntroduced\",\n",
      "\"dataType\": [\"int\"],\n",
      "\"description\": \"Year the instrument was introduced.\"\n",
      "},\n",
      "{\n",
      "\"name\": \"isString\",\n",
      "\"dataType\": [\"boolean\"],\n",
      "\"description\": \"Is it a string instrument?\"\n",
      "},\n",
      "{\n",
      "\"name\": \"playedBy\",\n",
      "\"dataType\": [\"Musician\"],\n",
      "\"description\": \"Musicians who play this instrument.\"\n",
      "}{\n",
      "\"class\": \"Musician\",\n",
      "\"description\": \"An individual who plays a musical instrument.\",\n",
      "\"vectorIndexType\": \"hnsw\",\n",
      "\"vectorizer\": \"text2vec-transformers\",\n",
      "\"properties\": [\n",
      "{\n",
      "\"name\": \"name\",\n",
      "\"dataType\": [\"text\"],\n",
      "\"description\": \"Name of the musician.\"\n",
      "},\n",
      "{\n",
      "\"name\": \"genre\",\n",
      "\"dataType\": [\"text\"],\n",
      "\"description\": \"Genre of music the musician specializes in.\"\n",
      "},\n",
      "{\n",
      "\"name\": \"yearsActive\",\n",
      "\"dataType\": [\"int\"],\n",
      "\"description\": \"Years active in music.\"\n",
      "}}}\n",
      "\n",
      "## API reference\n",
      "`limit` returned objects\n",
      "\n",
      "Often, you will only want the top `n` results from the query. This can be achieved by setting a `limit` as shown below.\n",
      "\n",
      "```graphql\n",
      "{\n",
      "  Get {\n",
      "    JeopardyQuestion (\n",
      "      limit: 1\n",
      "    ) {\n",
      "      question\n",
      "    }\n",
      "  }\n",
      "}\n",
      "```\n",
      "\n",
      "## Answer\n",
      "```graphql\n",
      "{\n",
      "  Get {\n",
      "    Instrument (\n",
      "      limit: 10\n",
      "    ) {\n",
      "      name\n",
      "      description\n",
      "      yearIntroduced\n",
      "      isString\n",
      "      playedBy {\n",
      "        ... on Musician {\n",
      "          name\n",
      "          genre\n",
      "          yearsActive\n",
      "        }\n",
      "      }\n",
      "    }\n",
      "  }\n",
      "}\n",
      "``\n",
      "CPU times: user 3min 12s, sys: 44.1 ms, total: 3min 12s\n",
      "Wall time: 3min 12s\n"
     ]
    }
   ],
   "source": [
    "%%time\n",
    "import torch\n",
    "from transformers import StoppingCriteria, StoppingCriteriaList\n",
    "\n",
    "device = \"cuda\"\n",
    "model_inputs = tokenizer([prompt.format_map(x) for x in dataset[\"train\"].select(range(5))],\n",
    "                         return_tensors=\"pt\", padding=True).to(device)\n",
    "\n",
    "class BacktickStoppingCriteria(StoppingCriteria):\n",
    "    def __init__(self):\n",
    "        self.stop_tokens = torch.LongTensor([13940, 28832]).to(device)\n",
    "        self.len = self.stop_tokens.shape[0]\n",
    "\n",
    "    def __call__(self, input_ids: torch.LongTensor, scores: torch.FloatTensor, **kwargs) -> bool:\n",
    "        if torch.equal(input_ids[0][-1 * self.len:], self.stop_tokens):\n",
    "            return True\n",
    "        return False\n",
    "\n",
    "\n",
    "\n",
    "stopping_criteria = StoppingCriteriaList([BacktickStoppingCriteria()])\n",
    "\n",
    "generated_ids = model.generate(**model_inputs,\n",
    "                               max_new_tokens=300,\n",
    "                               stopping_criteria=stopping_criteria)\n",
    "\n",
    "print(tokenizer.batch_decode(generated_ids)[1])"
   ]
  }
 ],
 "metadata": {
  "kernelspec": {
   "display_name": "Python 3 (ipykernel)",
   "language": "python",
   "name": "python3"
  },
  "language_info": {
   "codemirror_mode": {
    "name": "ipython",
    "version": 3
   },
   "file_extension": ".py",
   "mimetype": "text/x-python",
   "name": "python",
   "nbconvert_exporter": "python",
   "pygments_lexer": "ipython3",
   "version": "3.10.12"
  }
 },
 "nbformat": 4,
 "nbformat_minor": 4
}
